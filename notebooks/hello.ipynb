{
 "cells": [
  {
   "cell_type": "markdown",
   "metadata": {},
   "source": [
    "# Hello World"
   ]
  },
  {
   "cell_type": "markdown",
   "metadata": {},
   "source": [
    "If you are having an issue with `python` command not found on macOS, you can try to link it for the correct version under Xcode:\n",
    "\n",
    "```bash\n",
    "sudo ln -s /Applications/Xcode.app/Contents/Developer/usr/bin/python3 /Applications/Xcode.app/Contents/Developer/usr/bin/python\n",
    "```"
   ]
  },
  {
   "cell_type": "code",
   "execution_count": 3,
   "metadata": {},
   "outputs": [
    {
     "name": "stdout",
     "output_type": "stream",
     "text": [
      "Shell: /Applications/Xcode.app/Contents/Developer/usr/bin/python3\n",
      "Profile: /Users/mahmutcanga/Library/Python/3.9/lib/python/site-packages/ipykernel_launcher.py\n",
      "python version\n",
      "Python 3.9.6\n"
     ]
    }
   ],
   "source": [
    "import sys\n",
    "\n",
    "# Get the shell\n",
    "shell = sys.executable\n",
    "print(\"Shell:\", shell)\n",
    "\n",
    "# Get the profile\n",
    "profile = sys.argv[0]\n",
    "print(\"Profile:\", profile)\n",
    "\n",
    "print(\"python version\")\n",
    "!python --version"
   ]
  },
  {
   "cell_type": "code",
   "execution_count": null,
   "metadata": {},
   "outputs": [],
   "source": [
    "print(\"hello world\")"
   ]
  }
 ],
 "metadata": {
  "kernelspec": {
   "display_name": "Python 3",
   "language": "python",
   "name": "python3"
  },
  "language_info": {
   "codemirror_mode": {
    "name": "ipython",
    "version": 3
   },
   "file_extension": ".py",
   "mimetype": "text/x-python",
   "name": "python",
   "nbconvert_exporter": "python",
   "pygments_lexer": "ipython3",
   "version": "3.9.6"
  }
 },
 "nbformat": 4,
 "nbformat_minor": 2
}
