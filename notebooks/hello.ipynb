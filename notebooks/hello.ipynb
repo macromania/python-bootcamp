{
 "cells": [
  {
   "cell_type": "markdown",
   "metadata": {},
   "source": [
    "# Hello World"
   ]
  },
  {
   "cell_type": "markdown",
   "metadata": {},
   "source": [
    "If you are having an issue with `python` command not found on macOS, you can try to link it for the correct version under Xcode:\n",
    "\n",
    "```bash\n",
    "sudo ln -s /Applications/Xcode.app/Contents/Developer/usr/bin/python3 /Applications/Xcode.app/Contents/Developer/usr/bin/python\n",
    "```"
   ]
  },
  {
   "cell_type": "code",
   "execution_count": 10,
   "metadata": {},
   "outputs": [
    {
     "name": "stdout",
     "output_type": "stream",
     "text": [
      "Shell: /Applications/Xcode.app/Contents/Developer/usr/bin/python3\n",
      "Profile: /Users/mahmutcanga/Library/Python/3.9/lib/python/site-packages/ipykernel_launcher.py\n",
      "python version\n",
      "Python 3.9.6\n"
     ]
    }
   ],
   "source": [
    "import sys\n",
    "\n",
    "# Get the shell\n",
    "shell = sys.executable\n",
    "print(\"Shell:\", shell)\n",
    "\n",
    "# Get the profile\n",
    "profile = sys.argv[0]\n",
    "print(\"Profile:\", profile)\n",
    "\n",
    "print(\"python version\")\n",
    "!python --version"
   ]
  },
  {
   "cell_type": "code",
   "execution_count": 11,
   "metadata": {},
   "outputs": [
    {
     "name": "stdout",
     "output_type": "stream",
     "text": [
      "hello world\n"
     ]
    }
   ],
   "source": [
    "print(\"hello world\")"
   ]
  },
  {
   "cell_type": "markdown",
   "metadata": {},
   "source": [
    "## Data Types"
   ]
  },
  {
   "cell_type": "markdown",
   "metadata": {},
   "source": [
    "### Numerics"
   ]
  },
  {
   "cell_type": "code",
   "execution_count": 12,
   "metadata": {},
   "outputs": [
    {
     "name": "stdout",
     "output_type": "stream",
     "text": [
      "number: 1\n",
      "floating: 1.0\n",
      "complex_number: (100+1j)\n"
     ]
    }
   ],
   "source": [
    "# int, floats, complex numbers\n",
    "number = 1\n",
    "floating = 1.0\n",
    "complex_number = 10**2 + 1j\n",
    "\n",
    "print(\"number:\", number)\n",
    "print(\"floating:\", floating)\n",
    "print(\"complex_number:\", complex_number)\n"
   ]
  },
  {
   "cell_type": "markdown",
   "metadata": {},
   "source": [
    "### Boolean"
   ]
  },
  {
   "cell_type": "code",
   "execution_count": 13,
   "metadata": {},
   "outputs": [
    {
     "name": "stdout",
     "output_type": "stream",
     "text": [
      "boolean: True\n"
     ]
    }
   ],
   "source": [
    "#boolean True or False\n",
    "boolean = True\n",
    "print(\"boolean:\", boolean)"
   ]
  },
  {
   "cell_type": "markdown",
   "metadata": {},
   "source": [
    "### Sequences"
   ]
  },
  {
   "cell_type": "code",
   "execution_count": 14,
   "metadata": {},
   "outputs": [
    {
     "name": "stdout",
     "output_type": "stream",
     "text": [
      "MyList: [1, 2, 3, 4, 5, 'Hello', 'World', True, False]\n",
      "MyTuples: (1, 2, 3, 4, 5)\n",
      "MySet: {1, 2, 3, 4, 5}\n",
      "MyString: Hello\n"
     ]
    }
   ],
   "source": [
    "#mutable, any type\n",
    "MyList = [1,2,3,4,5, \"Hello\", \"World\", True, False] \n",
    "\n",
    "#immutable\n",
    "MyTuples = (1,2,3,4,5) \n",
    "\n",
    "#unique values\n",
    "MySet = {1,2,3,4,5} \n",
    "\n",
    "#another sequence type\n",
    "MyString = \"Hello World\"\n",
    "\n",
    "print(\"MyList:\", MyList)\n",
    "print(\"MyTuples:\", MyTuples)\n",
    "print(\"MySet:\", MySet)\n",
    "print(\"MyString:\", MyString[0:5])"
   ]
  },
  {
   "cell_type": "markdown",
   "metadata": {},
   "source": [
    "### Dictionaries"
   ]
  },
  {
   "cell_type": "code",
   "execution_count": 16,
   "metadata": {},
   "outputs": [
    {
     "name": "stdout",
     "output_type": "stream",
     "text": [
      "MyDict: {'name': 'John', 'age': 36, 'address': {'street': '123 Main St', 'city': 'New York', 'state': 'NY'}}\n",
      "MyDict['name']: John\n",
      "MyDict['address']['city']: New York\n"
     ]
    }
   ],
   "source": [
    "#key:value pairs\n",
    "MyDict = {\n",
    "    \"name\":\"John\", \n",
    "    \"age\":36,\n",
    "    \"address\": {\n",
    "        \"street\":\"123 Main St\",\n",
    "        \"city\":\"New York\",\n",
    "        \"state\":\"NY\"\n",
    "    }\n",
    "} \n",
    "\n",
    "print(\"MyDict:\", MyDict)\n",
    "print(\"MyDict['name']:\", MyDict[\"name\"])\n",
    "print(\"MyDict['address']['city']:\", MyDict[\"address\"][\"city\"])"
   ]
  },
  {
   "cell_type": "markdown",
   "metadata": {},
   "source": [
    "### Mutable vs Immutable"
   ]
  },
  {
   "cell_type": "code",
   "execution_count": 19,
   "metadata": {},
   "outputs": [
    {
     "name": "stdout",
     "output_type": "stream",
     "text": [
      "food: ['pizza', 'hamburger', 'hotdog', 'spaghetti']\n",
      "food (modified): ['pizza', 'hamburger', 'hotdog', 'spaghetti', 'sushi']\n",
      "grocery: ('milk', 'eggs', 'bread', 'cheese')\n",
      "grocery[0]: milk\n",
      "name: John\n",
      "name[0]: J\n",
      "name.upper(): John\n",
      "name_upper: JOHN\n",
      "name: John\n"
     ]
    }
   ],
   "source": [
    "## mutable (list)\n",
    "\n",
    "food = [\"pizza\", \"hamburger\", \"hotdog\", \"spaghetti\"]\n",
    "print(\"food:\", food)\n",
    "\n",
    "food.append(\"sushi\")\n",
    "print(\"food (modified):\", food)\n",
    "\n",
    "## immutable (tuple)\n",
    "\n",
    "grocery = (\"milk\", \"eggs\", \"bread\", \"cheese\")\n",
    "\n",
    "print(\"grocery:\", grocery)\n",
    "print(\"grocery[0]:\", grocery[0])\n",
    "\n",
    "## strings - immutable\n",
    "\n",
    "name = \"John\"\n",
    "print(\"name:\", name)\n",
    "\n",
    "print(\"name[0]:\", name[0])\n",
    "\n",
    "# this does not change the value of name but creates a new string\n",
    "name.upper() \n",
    "print(\"name.upper():\", name)\n",
    "\n",
    "name_upper = name.upper()\n",
    "print(\"name_upper:\", name_upper)\n",
    "print(\"name:\", name)"
   ]
  }
 ],
 "metadata": {
  "kernelspec": {
   "display_name": "Python 3",
   "language": "python",
   "name": "python3"
  },
  "language_info": {
   "codemirror_mode": {
    "name": "ipython",
    "version": 3
   },
   "file_extension": ".py",
   "mimetype": "text/x-python",
   "name": "python",
   "nbconvert_exporter": "python",
   "pygments_lexer": "ipython3",
   "version": "3.9.6"
  }
 },
 "nbformat": 4,
 "nbformat_minor": 2
}
