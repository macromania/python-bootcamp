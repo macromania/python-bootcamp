{
 "cells": [
  {
   "cell_type": "markdown",
   "metadata": {},
   "source": [
    "# Hello World"
   ]
  },
  {
   "cell_type": "markdown",
   "metadata": {},
   "source": [
    "If you are having an issue with `python` command not found on macOS, you can try to link it for the correct version under Xcode:\n",
    "\n",
    "```bash\n",
    "sudo ln -s /Applications/Xcode.app/Contents/Developer/usr/bin/python3 /Applications/Xcode.app/Contents/Developer/usr/bin/python\n",
    "```"
   ]
  },
  {
   "cell_type": "code",
   "execution_count": 21,
   "metadata": {},
   "outputs": [
    {
     "name": "stdout",
     "output_type": "stream",
     "text": [
      "Shell: /Applications/Xcode.app/Contents/Developer/usr/bin/python3\n",
      "Profile: /Users/mahmutcanga/Library/Python/3.9/lib/python/site-packages/ipykernel_launcher.py\n",
      "python version\n",
      "Python 3.9.6\n"
     ]
    }
   ],
   "source": [
    "import sys\n",
    "\n",
    "# Get the shell\n",
    "shell = sys.executable\n",
    "print(\"Shell:\", shell)\n",
    "\n",
    "# Get the profile\n",
    "profile = sys.argv[0]\n",
    "print(\"Profile:\", profile)\n",
    "\n",
    "print(\"python version\")\n",
    "!python --version"
   ]
  },
  {
   "cell_type": "code",
   "execution_count": 22,
   "metadata": {},
   "outputs": [
    {
     "name": "stdout",
     "output_type": "stream",
     "text": [
      "hello world\n"
     ]
    }
   ],
   "source": [
    "print(\"hello world\")"
   ]
  },
  {
   "cell_type": "markdown",
   "metadata": {},
   "source": [
    "## Data Types"
   ]
  },
  {
   "cell_type": "markdown",
   "metadata": {},
   "source": [
    "### Numerics"
   ]
  },
  {
   "cell_type": "code",
   "execution_count": 23,
   "metadata": {},
   "outputs": [
    {
     "name": "stdout",
     "output_type": "stream",
     "text": [
      "<class 'int'>\n",
      "<class 'float'>\n",
      "<class 'complex'>\n",
      "number: 1000000\n",
      "floating: 1.0\n",
      "complex_number: (100+1j)\n"
     ]
    }
   ],
   "source": [
    "# int, floats, complex numbers\n",
    "number = 1_000_000\n",
    "print(type(number))\n",
    "\n",
    "floating = 1.0\n",
    "print(type(floating))\n",
    "\n",
    "complex_number = 10**2 + 1j\n",
    "print(type(complex_number))\n",
    "\n",
    "print(\"number:\", number)\n",
    "print(\"floating:\", floating)\n",
    "print(\"complex_number:\", complex_number)\n",
    "\n",
    "\n",
    "\n",
    "\n"
   ]
  },
  {
   "cell_type": "markdown",
   "metadata": {},
   "source": [
    "### Boolean"
   ]
  },
  {
   "cell_type": "code",
   "execution_count": 24,
   "metadata": {},
   "outputs": [
    {
     "name": "stdout",
     "output_type": "stream",
     "text": [
      "boolean: True\n"
     ]
    }
   ],
   "source": [
    "#boolean True or False\n",
    "boolean = True\n",
    "print(\"boolean:\", boolean)"
   ]
  },
  {
   "cell_type": "markdown",
   "metadata": {},
   "source": [
    "### Sequences"
   ]
  },
  {
   "cell_type": "code",
   "execution_count": 25,
   "metadata": {},
   "outputs": [
    {
     "name": "stdout",
     "output_type": "stream",
     "text": [
      "MyList: [1, 2, 3, 4, 5, 'Hello', 'World', True, False]\n",
      "MyTuples: (1, 2, 3, 4, 5)\n",
      "MySet: {1, 2, 3, 4, 5}\n",
      "MyString: Hello\n",
      "MyMatrix: [[1, 2, 3], [4, 5, 6], [7, 8, 9]]\n",
      "MyMatrix[0]: [1, 2, 3]\n",
      "MyMatrix[1][1]: 5\n",
      "MyMatrix (reversed): [[7, 8, 9], [4, 5, 6], [1, 2, 3]]\n"
     ]
    }
   ],
   "source": [
    "#mutable, any type\n",
    "MyList = [1,2,3,4,5, \"Hello\", \"World\", True, False] \n",
    "\n",
    "#immutable\n",
    "MyTuples = (1,2,3,4,5) \n",
    "\n",
    "#unique values\n",
    "MySet = {1,2,3,4,5} \n",
    "\n",
    "#another sequence type\n",
    "MyString = \"Hello World\"\n",
    "\n",
    "print(\"MyList:\", MyList)\n",
    "print(\"MyTuples:\", MyTuples)\n",
    "print(\"MySet:\", MySet)\n",
    "print(\"MyString:\", MyString[0:5])\n",
    "\n",
    "# matrix\n",
    "MyMatrix = [\n",
    "    [1,2,3],\n",
    "    [4,5,6],\n",
    "    [7,8,9]\n",
    "]\n",
    "\n",
    "print(\"MyMatrix:\", MyMatrix)\n",
    "print(\"MyMatrix[0]:\", MyMatrix[0])\n",
    "print(\"MyMatrix[1][1]:\", MyMatrix[1][1])\n",
    "\n",
    "MyMatrix.reverse()\n",
    "\n",
    "print(\"MyMatrix (reversed):\", MyMatrix)"
   ]
  },
  {
   "cell_type": "markdown",
   "metadata": {},
   "source": [
    "### Strings"
   ]
  },
  {
   "cell_type": "code",
   "execution_count": 26,
   "metadata": {},
   "outputs": [
    {
     "name": "stdout",
     "output_type": "stream",
     "text": [
      "sentence: What's your name?\n",
      "another_sentence: What's your name?\n",
      "something: Hello World\n",
      "duck_string: \n",
      "Life is like a box of chocolates\n",
      "You never know what you're gonna get\n",
      "\n",
      "letter W\n",
      "letter h\n",
      "letter a\n",
      "letter t\n",
      "letter '\n",
      "letter s\n",
      "letter  \n",
      "letter y\n",
      "letter o\n",
      "letter u\n",
      "letter r\n",
      "letter  \n",
      "letter n\n",
      "letter a\n",
      "letter m\n",
      "letter e\n",
      "letter ?\n",
      "My name is John and I am 30 years old\n",
      "My name is John and I am 30 years old\n",
      "My name is John and I am 30 years old\n"
     ]
    }
   ],
   "source": [
    "sentence = \"What's your name?\"\n",
    "\n",
    "# escape characters\n",
    "another_sentence = 'What\\'s your name?'\n",
    "\n",
    "something = \"Hello \" \\\n",
    "            \"World\"\n",
    "\n",
    "\n",
    "duck_string = \"\"\"\n",
    "Life is like a box of chocolates\n",
    "You never know what you're gonna get\n",
    "\"\"\"\n",
    "\n",
    "print(\"sentence:\", sentence)\n",
    "print(\"another_sentence:\", another_sentence)\n",
    "print(\"something:\", something)\n",
    "print(\"duck_string:\", duck_string)\n",
    "\n",
    "\n",
    "for letter in sentence:\n",
    "    print(\"letter\", letter)\n",
    "\n",
    "\n",
    "# string formatting\n",
    "name = \"John\"\n",
    "age = 30\n",
    "\n",
    "print(\"My name is \" + name + \" and I am \" + str(age) + \" years old\")\n",
    "print(\"My name is {} and I am {} years old\".format(name, age))\n",
    "\n",
    "# f-strings python 3.6+\n",
    "print(f\"My name is {name} and I am {age} years old\")"
   ]
  },
  {
   "cell_type": "markdown",
   "metadata": {},
   "source": [
    "### Dictionaries"
   ]
  },
  {
   "cell_type": "code",
   "execution_count": 27,
   "metadata": {},
   "outputs": [
    {
     "name": "stdout",
     "output_type": "stream",
     "text": [
      "MyDict: {'name': 'John', 'age': 36, 'address': {'street': '123 Main St', 'city': 'New York', 'state': 'NY'}}\n",
      "MyDict['name']: John\n",
      "MyDict['address']['city']: New York\n",
      "MyDict: {'name': 'John', 'age': 36, 'address': {'street': '123 Main St', 'city': 'New York', 'state': 'NY'}, 'email': 'test@example.com'}\n",
      "MyDict: {'name': 'John', 'age': 36, 'address': {'street': '123 Main St', 'city': 'New York', 'state': 'NY'}}\n",
      "MyDict.get('name'): John\n",
      "MyDict.get('email'): Not Found\n",
      "name = John\n",
      "age = 36\n",
      "address = {'street': '123 Main St', 'city': 'New York', 'state': 'NY'}\n"
     ]
    }
   ],
   "source": [
    "#key:value pairs (objects in other languages like javascript)\n",
    "my_details = {\n",
    "    \"name\":\"John\", \n",
    "    \"age\":36,\n",
    "    \"address\": {\n",
    "        \"street\":\"123 Main St\",\n",
    "        \"city\":\"New York\",\n",
    "        \"state\":\"NY\"\n",
    "    }\n",
    "} \n",
    "\n",
    "print(\"MyDict:\", my_details)\n",
    "print(\"MyDict['name']:\", my_details[\"name\"])\n",
    "print(\"MyDict['address']['city']:\", my_details[\"address\"][\"city\"])\n",
    "\n",
    "\n",
    "# add new data\n",
    "my_details[\"email\"] = \"test@example.com\"\n",
    "print(\"MyDict:\", my_details)\n",
    "\n",
    "# delete data\n",
    "del my_details[\"email\"]\n",
    "print(\"MyDict:\", my_details)\n",
    "\n",
    "# get item\n",
    "print(\"MyDict.get('name'):\", my_details.get(\"name\"))\n",
    "\n",
    "# get non existent item\n",
    "print(\"MyDict.get('email'):\", my_details.get(\"email\", \"Not Found\"))\n",
    "\n",
    "# loop\n",
    "for key, value in my_details.items():\n",
    "    print(key, \"=\", value)"
   ]
  },
  {
   "cell_type": "markdown",
   "metadata": {},
   "source": [
    "### Tuples"
   ]
  },
  {
   "cell_type": "code",
   "execution_count": 28,
   "metadata": {},
   "outputs": [
    {
     "name": "stdout",
     "output_type": "stream",
     "text": [
      "my_list: (1, 2, 3, 4, 5, 'Hello', 'World', True, False)\n",
      "new_list: (1, 2, 3, 4, 5)\n"
     ]
    }
   ],
   "source": [
    "my_list = (1,2,3,4,5, \"Hello\", \"World\", True, False)\n",
    "print(\"my_list:\", my_list)\n",
    "\n",
    "# append (Error)\n",
    "#my_list.append(6)\n",
    "\n",
    "# remove (Error)\n",
    "#my_list.remove(1)\n",
    "\n",
    "# pop (Error)\n",
    "#my_list.pop()\n",
    "\n",
    "# new list\n",
    "new_list = my_list[0:5]\n",
    "print(\"new_list:\", new_list)"
   ]
  },
  {
   "cell_type": "markdown",
   "metadata": {},
   "source": [
    "### Mutable vs Immutable"
   ]
  },
  {
   "cell_type": "code",
   "execution_count": 36,
   "metadata": {},
   "outputs": [
    {
     "name": "stdout",
     "output_type": "stream",
     "text": [
      "food: ['pizza', 'hamburger', 'hotdog', 'spaghetti']\n",
      "0 apple\n",
      "1 banana\n",
      "2 cherry\n",
      "food[-1]: spaghetti\n",
      "food[0:2]: ['pizza', 'hamburger']\n",
      "food[:3]: ['pizza', 'hamburger', 'hotdog']\n",
      "food[2:]: ['hotdog', 'spaghetti']\n",
      "food (modified): ['pizza', 'hamburger', 'hotdog', 'spaghetti', 'sushi']\n",
      "grocery: ('milk', 'eggs', 'bread', 'cheese')\n",
      "grocery[0]: milk\n",
      "name: John\n",
      "name[0]: J\n",
      "name.upper(): John\n",
      "name_upper: JOHN\n",
      "name: John\n",
      "1 a\n",
      "2 b\n",
      "3 c\n"
     ]
    }
   ],
   "source": [
    "## mutable (list)\n",
    "\n",
    "food = [\"pizza\", \"hamburger\", \"hotdog\", \"spaghetti\"]\n",
    "print(\"food:\", food)\n",
    "\n",
    "my_list = ['apple', 'banana', 'cherry']\n",
    "for i, value in enumerate(my_list):\n",
    "    print(i, value)\n",
    "\n",
    "# last item\n",
    "print(\"food[-1]:\", food[-1])\n",
    "\n",
    "# slice from to\n",
    "print(\"food[0:2]:\", food[0:2])\n",
    "\n",
    "# slice range up to\n",
    "print(\"food[:3]:\", food[:3])\n",
    "\n",
    "# slice range from\n",
    "print(\"food[2:]:\", food[2:])\n",
    "\n",
    "food.append(\"sushi\")\n",
    "print(\"food (modified):\", food)\n",
    "\n",
    "## immutable (tuple)\n",
    "\n",
    "grocery = (\"milk\", \"eggs\", \"bread\", \"cheese\")\n",
    "\n",
    "print(\"grocery:\", grocery)\n",
    "print(\"grocery[0]:\", grocery[0])\n",
    "\n",
    "## strings - immutable\n",
    "\n",
    "name = \"John\"\n",
    "print(\"name:\", name)\n",
    "\n",
    "print(\"name[0]:\", name[0])\n",
    "\n",
    "# this does not change the value of name but creates a new string\n",
    "name.upper() \n",
    "print(\"name.upper():\", name)\n",
    "\n",
    "name_upper = name.upper()\n",
    "print(\"name_upper:\", name_upper)\n",
    "print(\"name:\", name)\n",
    "\n",
    "# aggregate lists into a tuple\n",
    "list1 = [1, 2, 3]\n",
    "list2 = ['a', 'b', 'c']\n",
    "for num, letter in zip(list1, list2):\n",
    "    print(num, letter)"
   ]
  },
  {
   "cell_type": "markdown",
   "metadata": {},
   "source": [
    "### None"
   ]
  },
  {
   "cell_type": "code",
   "execution_count": 30,
   "metadata": {},
   "outputs": [
    {
     "name": "stdout",
     "output_type": "stream",
     "text": [
      "sports: None\n",
      "sports not found\n",
      "email not found\n"
     ]
    }
   ],
   "source": [
    "sports = None\n",
    "\n",
    "print(\"sports:\", sports)\n",
    "\n",
    "# if statement\n",
    "if sports is None:\n",
    "    print(\"sports not found\")\n",
    "\n",
    "my_data = {\n",
    "    \"name\":\"John\", \n",
    "    \"age\":36,\n",
    "    \"address\": {\n",
    "        \"street\":\"123 Main St\",\n",
    "        \"city\":\"New York\",\n",
    "        \"state\":\"NY\"\n",
    "    }\n",
    "}\n",
    "\n",
    "email = my_data.get(\"email\")\n",
    "\n",
    "if email is None:\n",
    "    print(\"email not found\")"
   ]
  },
  {
   "cell_type": "markdown",
   "metadata": {},
   "source": [
    "### User Input"
   ]
  },
  {
   "cell_type": "code",
   "execution_count": 31,
   "metadata": {},
   "outputs": [
    {
     "name": "stdout",
     "output_type": "stream",
     "text": [
      "your_name: \n",
      "your_age:  type: <class 'str'>\n"
     ]
    },
    {
     "ename": "ValueError",
     "evalue": "invalid literal for int() with base 10: ''",
     "output_type": "error",
     "traceback": [
      "\u001b[0;31m---------------------------------------------------------------------------\u001b[0m",
      "\u001b[0;31mValueError\u001b[0m                                Traceback (most recent call last)",
      "Cell \u001b[0;32mIn[31], line 7\u001b[0m\n\u001b[1;32m      4\u001b[0m your_age \u001b[38;5;241m=\u001b[39m \u001b[38;5;28minput\u001b[39m(\u001b[38;5;124m\"\u001b[39m\u001b[38;5;124mEnter your age: \u001b[39m\u001b[38;5;124m\"\u001b[39m)\n\u001b[1;32m      5\u001b[0m \u001b[38;5;28mprint\u001b[39m(\u001b[38;5;124m\"\u001b[39m\u001b[38;5;124myour_age:\u001b[39m\u001b[38;5;124m\"\u001b[39m, your_age, \u001b[38;5;124m\"\u001b[39m\u001b[38;5;124mtype:\u001b[39m\u001b[38;5;124m\"\u001b[39m, \u001b[38;5;28mtype\u001b[39m(your_age))\n\u001b[0;32m----> 7\u001b[0m your_age \u001b[38;5;241m=\u001b[39m \u001b[38;5;28;43mint\u001b[39;49m\u001b[43m(\u001b[49m\u001b[43myour_age\u001b[49m\u001b[43m)\u001b[49m\n\u001b[1;32m      8\u001b[0m \u001b[38;5;28mprint\u001b[39m(\u001b[38;5;124m\"\u001b[39m\u001b[38;5;124myour_age:\u001b[39m\u001b[38;5;124m\"\u001b[39m, your_age, \u001b[38;5;124m\"\u001b[39m\u001b[38;5;124mtype:\u001b[39m\u001b[38;5;124m\"\u001b[39m, \u001b[38;5;28mtype\u001b[39m(your_age))\n",
      "\u001b[0;31mValueError\u001b[0m: invalid literal for int() with base 10: ''"
     ]
    }
   ],
   "source": [
    "your_name = input(\"Enter your name: \")\n",
    "print(\"your_name:\", your_name)\n",
    "\n",
    "your_age = input(\"Enter your age: \")\n",
    "print(\"your_age:\", your_age, \"type:\", type(your_age))\n",
    "\n",
    "your_age = int(your_age)\n",
    "print(\"your_age:\", your_age, \"type:\", type(your_age))\n"
   ]
  },
  {
   "cell_type": "markdown",
   "metadata": {},
   "source": [
    "### Files"
   ]
  },
  {
   "cell_type": "code",
   "execution_count": 32,
   "metadata": {},
   "outputs": [],
   "source": [
    "#this creates data.txt in the current directory of this notebook\n",
    "from datetime import datetime\n",
    "\n",
    "\n",
    "with open(\"data.txt\", \"w\") as file:\n",
    "    file.writelines(\"Hello World\")\n",
    "    file.writelines(\"\\n\")\n",
    "    file.writelines(f\"Created {datetime.now()}\")\n",
    "    file.close()"
   ]
  },
  {
   "cell_type": "code",
   "execution_count": 33,
   "metadata": {},
   "outputs": [],
   "source": [
    "with open(\"data.txt\", \"a\") as file:\n",
    "    file.writelines(\"\\n\")\n",
    "    file.writelines(f\"Updated {datetime.now()}\")\n",
    "    file.close()"
   ]
  },
  {
   "cell_type": "code",
   "execution_count": 34,
   "metadata": {},
   "outputs": [
    {
     "name": "stdout",
     "output_type": "stream",
     "text": [
      "Hello World\n",
      "Created 2024-01-25 11:43:17.497320\n",
      "Updated 2024-01-25 11:43:21.490346\n",
      "<class '_io.TextIOWrapper'>\n"
     ]
    }
   ],
   "source": [
    "with open(\"data.txt\", \"r\") as file:\n",
    "    print(file.read())\n",
    "    print(type(file))\n",
    "    file.close()"
   ]
  },
  {
   "cell_type": "markdown",
   "metadata": {},
   "source": [
    "## Helpers"
   ]
  },
  {
   "cell_type": "code",
   "execution_count": 82,
   "metadata": {},
   "outputs": [
    {
     "name": "stdout",
     "output_type": "stream",
     "text": [
      "exists: True\n",
      "exists: True\n",
      "-> 0 : python\n",
      "-> 1 : javascript\n",
      "-> 2 : java\n",
      "-> 3 : c++\n",
      "-> 4 : c#\n",
      "1 => a\n",
      "2 => b\n",
      "3 => c\n",
      "Hello:::World\n",
      "['Hello', 'World', 'Python']\n",
      "my_list: [1, 2, 3, 4, 5]\n",
      "my_list: [3, 5, 1, 4, 2]\n"
     ]
    }
   ],
   "source": [
    "# in operator\n",
    "exists = \"hello\" in \"hello world\"\n",
    "print(\"exists:\", exists)\n",
    "\n",
    "exists = \"2\" in [\"1\", \"2\", \"3\"]\n",
    "print(\"exists:\", exists)\n",
    "\n",
    "# enumerate in loops\n",
    "languages = [\"python\", \"javascript\", \"java\", \"c++\", \"c#\"]\n",
    "for index, language in enumerate(languages):\n",
    "    print(\"->\", index, \":\", language)\n",
    "\n",
    "# zip\n",
    "list1 = [1, 2, 3]\n",
    "list2 = ['a', 'b', 'c']\n",
    "for num, letter in zip(list1, list2):\n",
    "    print(num, \"=>\", letter)\n",
    "\n",
    "\n",
    "# join\n",
    "my_list = [\"Hello\", \"World\"]\n",
    "print(\":::\".join(my_list))\n",
    "\n",
    "# split\n",
    "my_string = \"Hello:::World:::Python\"\n",
    "print(my_string.split(\":::\"))\n",
    "\n",
    "# sort\n",
    "my_list = [5, 3, 1, 2, 4]\n",
    "my_list.sort()\n",
    "print(\"my_list:\", my_list)\n",
    "\n",
    "\n",
    "# shuffle\n",
    "from random import shuffle\n",
    "\n",
    "my_list = [5, 3, 1, 2, 4]\n",
    "shuffle(my_list)\n",
    "print(\"my_list:\", my_list)"
   ]
  },
  {
   "cell_type": "markdown",
   "metadata": {},
   "source": [
    "## Functions"
   ]
  },
  {
   "cell_type": "code",
   "execution_count": 90,
   "metadata": {},
   "outputs": [
    {
     "name": "stdout",
     "output_type": "stream",
     "text": [
      "Hello World\n",
      "Hello John\n",
      "3\n",
      "Hello World\n",
      "Hello John\n"
     ]
    }
   ],
   "source": [
    "def my_function():\n",
    "    print(\"Hello World\")\n",
    "\n",
    "my_function()\n",
    "\n",
    "def my_function(name):\n",
    "    print(\"Hello\", name)\n",
    "\n",
    "my_function(\"John\")\n",
    "\n",
    "def add(num1, num2) -> int:\n",
    "    return num1 + num2\n",
    "\n",
    "print(add(1, 2))\n",
    "\n",
    "def default_hello(name=\"World\"):\n",
    "    print(\"Hello\", name)\n",
    "\n",
    "default_hello()\n",
    "default_hello(\"John\")"
   ]
  }
 ],
 "metadata": {
  "kernelspec": {
   "display_name": "Python 3",
   "language": "python",
   "name": "python3"
  },
  "language_info": {
   "codemirror_mode": {
    "name": "ipython",
    "version": 3
   },
   "file_extension": ".py",
   "mimetype": "text/x-python",
   "name": "python",
   "nbconvert_exporter": "python",
   "pygments_lexer": "ipython3",
   "version": "3.9.6"
  }
 },
 "nbformat": 4,
 "nbformat_minor": 2
}
